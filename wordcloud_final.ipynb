{
 "cells": [
  {
   "cell_type": "code",
   "execution_count": 1,
   "id": "4269ba20-5621-43fd-afd8-7a77c4bd3f3c",
   "metadata": {},
   "outputs": [],
   "source": [
    "import pandas as pd\n",
    "from wordcloud import WordCloud, STOPWORDS\n",
    "import matplotlib.pyplot as plt\n",
    "from collections import Counter\n",
    "from matplotlib.colors import LinearSegmentedColormap\n",
    "import nltk\n",
    "from nltk.tokenize import word_tokenize\n",
    "from nltk import pos_tag"
   ]
  },
  {
   "cell_type": "code",
   "execution_count": 2,
   "id": "ee986a0d-6224-4ff2-b46d-e8d7bf1898ec",
   "metadata": {},
   "outputs": [
    {
     "name": "stderr",
     "output_type": "stream",
     "text": [
      "[nltk_data] Downloading package punkt to\n",
      "[nltk_data]     /Users/sofiaahmed/nltk_data...\n",
      "[nltk_data]   Package punkt is already up-to-date!\n",
      "[nltk_data] Downloading package averaged_perceptron_tagger to\n",
      "[nltk_data]     /Users/sofiaahmed/nltk_data...\n",
      "[nltk_data]   Package averaged_perceptron_tagger is already up-to-\n",
      "[nltk_data]       date!\n"
     ]
    },
    {
     "data": {
      "text/plain": [
       "True"
      ]
     },
     "execution_count": 2,
     "metadata": {},
     "output_type": "execute_result"
    }
   ],
   "source": [
    "nltk.download('punkt')\n",
    "nltk.download('averaged_perceptron_tagger')"
   ]
  },
  {
   "cell_type": "code",
   "execution_count": 3,
   "id": "03042be4-a70c-4ad8-8e72-eccff66c91f7",
   "metadata": {},
   "outputs": [],
   "source": [
    "df_nytimes = pd.read_csv('nytimes_headlines.csv')\n",
    "df_cnn = pd.read_csv('cnn_headlines.csv')\n",
    "df_wapo = pd.read_csv('wapo_final.csv')\n",
    "df_nypost = pd.read_csv('nypost_final_final.csv')\n",
    "df_fox= pd.read_csv('fox_headline_final.csv')"
   ]
  },
  {
   "cell_type": "code",
   "execution_count": 8,
   "id": "24a9e277-5699-477f-b8ba-842c7eecaf39",
   "metadata": {},
   "outputs": [
    {
     "data": {
      "text/html": [
       "<div>\n",
       "<style scoped>\n",
       "    .dataframe tbody tr th:only-of-type {\n",
       "        vertical-align: middle;\n",
       "    }\n",
       "\n",
       "    .dataframe tbody tr th {\n",
       "        vertical-align: top;\n",
       "    }\n",
       "\n",
       "    .dataframe thead th {\n",
       "        text-align: right;\n",
       "    }\n",
       "</style>\n",
       "<table border=\"1\" class=\"dataframe\">\n",
       "  <thead>\n",
       "    <tr style=\"text-align: right;\">\n",
       "      <th></th>\n",
       "      <th>Headline</th>\n",
       "    </tr>\n",
       "  </thead>\n",
       "  <tbody>\n",
       "    <tr>\n",
       "      <th>0</th>\n",
       "      <td>Untangling the Mess of Campus Protests</td>\n",
       "    </tr>\n",
       "    <tr>\n",
       "      <th>1</th>\n",
       "      <td>A Thank-You Note to the Campus Protesters</td>\n",
       "    </tr>\n",
       "    <tr>\n",
       "      <th>2</th>\n",
       "      <td>Why the Campus Protests Are So Troubling</td>\n",
       "    </tr>\n",
       "    <tr>\n",
       "      <th>3</th>\n",
       "      <td>The Campus Protests Signal the End of an Era f...</td>\n",
       "    </tr>\n",
       "    <tr>\n",
       "      <th>4</th>\n",
       "      <td>Campus Protests Over Gaza Spotlight the Work o...</td>\n",
       "    </tr>\n",
       "    <tr>\n",
       "      <th>...</th>\n",
       "      <td>...</td>\n",
       "    </tr>\n",
       "    <tr>\n",
       "      <th>95</th>\n",
       "      <td>House Republican Drafts Censure of Omar for ‘P...</td>\n",
       "    </tr>\n",
       "    <tr>\n",
       "      <th>96</th>\n",
       "      <td>Biden, Let the Protests of 1968 Be a Warning</td>\n",
       "    </tr>\n",
       "    <tr>\n",
       "      <th>97</th>\n",
       "      <td>N.Y.U. Says It Will Discipline Students Who Re...</td>\n",
       "    </tr>\n",
       "    <tr>\n",
       "      <th>98</th>\n",
       "      <td>Crackdowns at 4 College Protests Lead to More ...</td>\n",
       "    </tr>\n",
       "    <tr>\n",
       "      <th>99</th>\n",
       "      <td>For Fox News and Conservative Media, Student P...</td>\n",
       "    </tr>\n",
       "  </tbody>\n",
       "</table>\n",
       "<p>100 rows × 1 columns</p>\n",
       "</div>"
      ],
      "text/plain": [
       "                                             Headline\n",
       "0              Untangling the Mess of Campus Protests\n",
       "1           A Thank-You Note to the Campus Protesters\n",
       "2            Why the Campus Protests Are So Troubling\n",
       "3   The Campus Protests Signal the End of an Era f...\n",
       "4   Campus Protests Over Gaza Spotlight the Work o...\n",
       "..                                                ...\n",
       "95  House Republican Drafts Censure of Omar for ‘P...\n",
       "96       Biden, Let the Protests of 1968 Be a Warning\n",
       "97  N.Y.U. Says It Will Discipline Students Who Re...\n",
       "98  Crackdowns at 4 College Protests Lead to More ...\n",
       "99  For Fox News and Conservative Media, Student P...\n",
       "\n",
       "[100 rows x 1 columns]"
      ]
     },
     "execution_count": 8,
     "metadata": {},
     "output_type": "execute_result"
    }
   ],
   "source": [
    "df_nytimes_2 = df_nytimes.rename(columns={'headline': 'Headline'})\n",
    "df_nytimes_2"
   ]
  },
  {
   "cell_type": "code",
   "execution_count": 10,
   "id": "b3c7c3cc-ec69-4daf-a7f5-f5e7a8c5f719",
   "metadata": {},
   "outputs": [
    {
     "data": {
      "text/html": [
       "<div>\n",
       "<style scoped>\n",
       "    .dataframe tbody tr th:only-of-type {\n",
       "        vertical-align: middle;\n",
       "    }\n",
       "\n",
       "    .dataframe tbody tr th {\n",
       "        vertical-align: top;\n",
       "    }\n",
       "\n",
       "    .dataframe thead th {\n",
       "        text-align: right;\n",
       "    }\n",
       "</style>\n",
       "<table border=\"1\" class=\"dataframe\">\n",
       "  <thead>\n",
       "    <tr style=\"text-align: right;\">\n",
       "      <th></th>\n",
       "      <th>Headline</th>\n",
       "      <th>Date_Scraped</th>\n",
       "      <th>sentiment</th>\n",
       "      <th>compound_sentiment</th>\n",
       "    </tr>\n",
       "  </thead>\n",
       "  <tbody>\n",
       "    <tr>\n",
       "      <th>0</th>\n",
       "      <td>Untangling the Mess of Campus Protests</td>\n",
       "      <td>NaN</td>\n",
       "      <td>NaN</td>\n",
       "      <td>NaN</td>\n",
       "    </tr>\n",
       "    <tr>\n",
       "      <th>1</th>\n",
       "      <td>A Thank-You Note to the Campus Protesters</td>\n",
       "      <td>NaN</td>\n",
       "      <td>NaN</td>\n",
       "      <td>NaN</td>\n",
       "    </tr>\n",
       "    <tr>\n",
       "      <th>2</th>\n",
       "      <td>Why the Campus Protests Are So Troubling</td>\n",
       "      <td>NaN</td>\n",
       "      <td>NaN</td>\n",
       "      <td>NaN</td>\n",
       "    </tr>\n",
       "    <tr>\n",
       "      <th>3</th>\n",
       "      <td>The Campus Protests Signal the End of an Era f...</td>\n",
       "      <td>NaN</td>\n",
       "      <td>NaN</td>\n",
       "      <td>NaN</td>\n",
       "    </tr>\n",
       "    <tr>\n",
       "      <th>4</th>\n",
       "      <td>Campus Protests Over Gaza Spotlight the Work o...</td>\n",
       "      <td>NaN</td>\n",
       "      <td>NaN</td>\n",
       "      <td>NaN</td>\n",
       "    </tr>\n",
       "    <tr>\n",
       "      <th>...</th>\n",
       "      <td>...</td>\n",
       "      <td>...</td>\n",
       "      <td>...</td>\n",
       "      <td>...</td>\n",
       "    </tr>\n",
       "    <tr>\n",
       "      <th>95</th>\n",
       "      <td>Police arrest thousands at colleges across the...</td>\n",
       "      <td>NaN</td>\n",
       "      <td>NaN</td>\n",
       "      <td>NaN</td>\n",
       "    </tr>\n",
       "    <tr>\n",
       "      <th>96</th>\n",
       "      <td>Police make arrests at GWU anti-Israel encampm...</td>\n",
       "      <td>NaN</td>\n",
       "      <td>NaN</td>\n",
       "      <td>NaN</td>\n",
       "    </tr>\n",
       "    <tr>\n",
       "      <th>97</th>\n",
       "      <td>UCLA anti-Israel protesters ask supporters for...</td>\n",
       "      <td>NaN</td>\n",
       "      <td>NaN</td>\n",
       "      <td>NaN</td>\n",
       "    </tr>\n",
       "    <tr>\n",
       "      <th>98</th>\n",
       "      <td>UT Austin protests descend into chaos, anti-Is...</td>\n",
       "      <td>NaN</td>\n",
       "      <td>NaN</td>\n",
       "      <td>NaN</td>\n",
       "    </tr>\n",
       "    <tr>\n",
       "      <th>99</th>\n",
       "      <td>UNC Chapel Hill board votes to dismantle DEI p...</td>\n",
       "      <td>NaN</td>\n",
       "      <td>NaN</td>\n",
       "      <td>NaN</td>\n",
       "    </tr>\n",
       "  </tbody>\n",
       "</table>\n",
       "<p>499 rows × 4 columns</p>\n",
       "</div>"
      ],
      "text/plain": [
       "                                             Headline Date_Scraped sentiment  \\\n",
       "0              Untangling the Mess of Campus Protests          NaN       NaN   \n",
       "1           A Thank-You Note to the Campus Protesters          NaN       NaN   \n",
       "2            Why the Campus Protests Are So Troubling          NaN       NaN   \n",
       "3   The Campus Protests Signal the End of an Era f...          NaN       NaN   \n",
       "4   Campus Protests Over Gaza Spotlight the Work o...          NaN       NaN   \n",
       "..                                                ...          ...       ...   \n",
       "95  Police arrest thousands at colleges across the...          NaN       NaN   \n",
       "96  Police make arrests at GWU anti-Israel encampm...          NaN       NaN   \n",
       "97  UCLA anti-Israel protesters ask supporters for...          NaN       NaN   \n",
       "98  UT Austin protests descend into chaos, anti-Is...          NaN       NaN   \n",
       "99  UNC Chapel Hill board votes to dismantle DEI p...          NaN       NaN   \n",
       "\n",
       "    compound_sentiment  \n",
       "0                  NaN  \n",
       "1                  NaN  \n",
       "2                  NaN  \n",
       "3                  NaN  \n",
       "4                  NaN  \n",
       "..                 ...  \n",
       "95                 NaN  \n",
       "96                 NaN  \n",
       "97                 NaN  \n",
       "98                 NaN  \n",
       "99                 NaN  \n",
       "\n",
       "[499 rows x 4 columns]"
      ]
     },
     "execution_count": 10,
     "metadata": {},
     "output_type": "execute_result"
    }
   ],
   "source": [
    "merged_df = pd.concat([df_nytimes_2, df_cnn, df_wapo, df_nypost, df_fox], axis=0)\n",
    "merged_df"
   ]
  },
  {
   "cell_type": "code",
   "execution_count": 11,
   "id": "2f5d319d-2de3-4a9a-b4d1-f1bbc78e94ea",
   "metadata": {},
   "outputs": [],
   "source": [
    "merged_df_2 = merged_df['Headline']\n",
    "merged_df_2.to_csv('merged_dataset', index=False)"
   ]
  },
  {
   "cell_type": "code",
   "execution_count": 12,
   "id": "9e804ed6-ef02-4c3b-9270-2fb0f4e77539",
   "metadata": {},
   "outputs": [],
   "source": [
    "additional_stopwords = {'campus', 'protest'}\n",
    "stopwords = STOPWORDS.union(additional_stopwords)"
   ]
  },
  {
   "cell_type": "code",
   "execution_count": 14,
   "id": "09418d28-f5a9-45c2-a95e-ed02a30cc4dd",
   "metadata": {},
   "outputs": [],
   "source": [
    "text = ' '.join(merged_df['Headline'])\n",
    "words = word_tokenize(text)\n",
    "tagged_words = pos_tag(words)\n",
    "adjectives = [word for word, pos in tagged_words if pos in ['JJ', 'JJR', 'JJS']]"
   ]
  },
  {
   "cell_type": "code",
   "execution_count": 21,
   "id": "e356f518-7996-448a-9d29-c1701df92191",
   "metadata": {},
   "outputs": [],
   "source": [
    "cmap = LinearSegmentedColormap.from_list(\"black_gray\", [\"black\", \"white\"], N=256)\n",
    "wordcloud = WordCloud(stopwords=stopwords, background_color=\"white\", colormap=cmap).generate(text)"
   ]
  },
  {
   "cell_type": "code",
   "execution_count": 22,
   "id": "71d07b74-b9a2-4313-b0be-cd3bfb2c878d",
   "metadata": {},
   "outputs": [
    {
     "name": "stdout",
     "output_type": "stream",
     "text": [
      "Word cloud saved as adjective_wordcloud.svg\n"
     ]
    }
   ],
   "source": [
    "svg = wordcloud.to_svg()\n",
    "with open(\"adjective_wordcloud.svg\", \"w\") as f:\n",
    "    f.write(svg)\n",
    "print(\"Word cloud saved as adjective_wordcloud.svg\")"
   ]
  },
  {
   "cell_type": "code",
   "execution_count": null,
   "id": "afc4c28b-0875-4344-8329-dc410408e326",
   "metadata": {},
   "outputs": [],
   "source": []
  }
 ],
 "metadata": {
  "kernelspec": {
   "display_name": "Python 3 (ipykernel)",
   "language": "python",
   "name": "python3"
  },
  "language_info": {
   "codemirror_mode": {
    "name": "ipython",
    "version": 3
   },
   "file_extension": ".py",
   "mimetype": "text/x-python",
   "name": "python",
   "nbconvert_exporter": "python",
   "pygments_lexer": "ipython3",
   "version": "3.11.8"
  }
 },
 "nbformat": 4,
 "nbformat_minor": 5
}
